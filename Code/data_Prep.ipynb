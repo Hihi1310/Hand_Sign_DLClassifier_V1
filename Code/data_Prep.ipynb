{
 "cells": [
  {
   "cell_type": "code",
   "execution_count": 1,
   "metadata": {},
   "outputs": [],
   "source": [
    "import pandas as pd\n",
    "import numpy as np\n",
    "import os\n",
    "import cv2 as cv"
   ]
  },
  {
   "attachments": {},
   "cell_type": "markdown",
   "metadata": {},
   "source": [
    "The end goal is a csv file containing all the processed images' matrix and their encoded labels. <br>\n",
    "Also a json file with the decoded label name.\n",
    "---"
   ]
  },
  {
   "attachments": {},
   "cell_type": "markdown",
   "metadata": {},
   "source": [
    "<font size=\"5\">Make a dictionary containing images'file path and label</font>"
   ]
  },
  {
   "cell_type": "code",
   "execution_count": 2,
   "metadata": {},
   "outputs": [],
   "source": [
    "data_path= r'C:\\Users\\Admin\\Desktop\\DPL302m\\RockPapperScissor\\img'\n",
    "\n",
    "label_name=[]\n",
    "file_data=[]\n",
    "for root, dir, files in os.walk(data_path):\n",
    "        file_data.append(files)\n",
    "        for name in dir:\n",
    "                label_name.append(name)\n",
    "        \n",
    "file_data= np.array(file_data[1:], dtype='object')\n",
    "label_file_path= [os.path.join(data_path, name) for name in label_name]\n",
    "\n",
    "\n",
    "df_dict={'path':[], 'label':[]}\n",
    "temp=len(label_name)\n",
    "\n",
    "for i in range(temp):\n",
    "    for item in file_data[i]:\n",
    "        path= os.path.join(label_file_path[i], str(item))\n",
    "        df_dict['path'].append(path)\n",
    "        df_dict['label'].append(label_name[i])\n"
   ]
  },
  {
   "cell_type": "code",
   "execution_count": 3,
   "metadata": {},
   "outputs": [],
   "source": [
    "# make labels json file\n",
    "save_name_path= os.path.join(data_path, 'labels.txt')\n",
    "save_name_file= pd.DataFrame(label_name, index=range(len(label_name)))\n",
    "save_name_file.to_json(save_name_path)\n"
   ]
  },
  {
   "attachments": {},
   "cell_type": "markdown",
   "metadata": {},
   "source": [
    "<font size=\"5\">Turn the dictionary to a dataframe and reaplace the all the file path with image matrices (don't use)</font> "
   ]
  },
  {
   "cell_type": "code",
   "execution_count": 24,
   "metadata": {},
   "outputs": [],
   "source": [
    "# df= pd.DataFrame(df_dict)\n",
    "# df['label'].replace(df['label'].unique(), [0,1,2], inplace=True)\n",
    "\n",
    "# def get_image(path=''):\n",
    "#     img= cv.imread(path)\n",
    "#     img= cv.cvtColor(img, cv.COLOR_BGR2YCrCb)\n",
    "#     img= cv.resize(img, dsize=(300,300))\n",
    "#     img[:,:,0]= cv.GaussianBlur(img[:,:,0], ksize=(3,3), sigmaX=1, sigmaY=1)\n",
    "#     res= cv.cvtColor(img, cv.COLOR_YCrCb2RGB)\n",
    "#     return res\n",
    "# df= df.sample(frac=1) #shuffe data\n",
    "# df.iloc[:,0]=df.iloc[:,0].apply(lambda x: get_image(x))\n",
    "# df.iloc[:,0]= df.iloc[:,0].apply(lambda x: np.asarray(x))\n"
   ]
  },
  {
   "attachments": {},
   "cell_type": "markdown",
   "metadata": {},
   "source": [
    "<font size=\"5\">Export dataframe to csv file</font>"
   ]
  },
  {
   "cell_type": "code",
   "execution_count": 4,
   "metadata": {},
   "outputs": [],
   "source": [
    "save_frame_file=  os.path.join(data_path, 'RPS_data.csv')\n",
    "df= pd.DataFrame(df_dict)\n",
    "df['label'].replace(df['label'].unique(), [0,1,2], inplace=True)\n",
    "df= df.sample(frac=1) #shuffe data\n",
    "df.to_csv(save_frame_file, index=False)"
   ]
  }
 ],
 "metadata": {
  "kernelspec": {
   "display_name": "tfGPU",
   "language": "python",
   "name": "python3"
  },
  "language_info": {
   "codemirror_mode": {
    "name": "ipython",
    "version": 3
   },
   "file_extension": ".py",
   "mimetype": "text/x-python",
   "name": "python",
   "nbconvert_exporter": "python",
   "pygments_lexer": "ipython3",
   "version": "3.9.16"
  },
  "orig_nbformat": 4
 },
 "nbformat": 4,
 "nbformat_minor": 2
}
